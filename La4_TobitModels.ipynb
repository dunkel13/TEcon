{
 "cells": [
  {
   "cell_type": "markdown",
   "metadata": {},
   "source": [
    "# Example 1: Censored Tobit"
   ]
  },
  {
   "cell_type": "markdown",
   "metadata": {},
   "source": [
    "We will use some of the Mroz data on female labor force participation and income for these examples. The first 428 observations of the Mroz data contained women who worked in 1975. The remaining 345 bservations contained women who did not work. We will use only the first  50 observations from each of these subsets of the data."
   ]
  },
  {
   "cell_type": "code",
   "execution_count": 1,
   "metadata": {},
   "outputs": [],
   "source": [
    "LFP <- read.csv(\"~/tobit.txt\", sep=\"\")"
   ]
  },
  {
   "cell_type": "code",
   "execution_count": 4,
   "metadata": {},
   "outputs": [
    {
     "name": "stderr",
     "output_type": "stream",
     "text": [
      "The following object is masked _by_ .GlobalEnv:\n",
      "\n",
      "    LFP\n",
      "\n"
     ]
    },
    {
     "data": {
      "text/plain": [
       "      LFP              WHRS             KL6              K618      \n",
       " Min.   :0.0000   Min.   :   0.0   Min.   :0.0000   Min.   :0.000  \n",
       " 1st Qu.:0.0000   1st Qu.:   0.0   1st Qu.:0.0000   1st Qu.:0.000  \n",
       " Median :1.0000   Median : 288.0   Median :0.0000   Median :1.000  \n",
       " Mean   :0.5684   Mean   : 740.6   Mean   :0.2377   Mean   :1.353  \n",
       " 3rd Qu.:1.0000   3rd Qu.:1516.0   3rd Qu.:0.0000   3rd Qu.:2.000  \n",
       " Max.   :1.0000   Max.   :4950.0   Max.   :3.0000   Max.   :8.000  \n",
       "       WA              WE              WW              RPWG           HHRS     \n",
       " Min.   :30.00   Min.   : 5.00   Min.   : 0.000   Min.   :0.00   Min.   : 175  \n",
       " 1st Qu.:36.00   1st Qu.:12.00   1st Qu.: 0.000   1st Qu.:0.00   1st Qu.:1928  \n",
       " Median :43.00   Median :12.00   Median : 1.625   Median :0.00   Median :2164  \n",
       " Mean   :42.54   Mean   :12.29   Mean   : 2.375   Mean   :1.85   Mean   :2267  \n",
       " 3rd Qu.:49.00   3rd Qu.:13.00   3rd Qu.: 3.788   3rd Qu.:3.58   3rd Qu.:2553  \n",
       " Max.   :60.00   Max.   :17.00   Max.   :25.000   Max.   :9.98   Max.   :5010  \n",
       "       HA              HE              HW              FAMINC     \n",
       " Min.   :30.00   Min.   : 3.00   Min.   : 0.4121   Min.   : 1500  \n",
       " 1st Qu.:38.00   1st Qu.:11.00   1st Qu.: 4.7883   1st Qu.:15428  \n",
       " Median :46.00   Median :12.00   Median : 6.9758   Median :20880  \n",
       " Mean   :45.12   Mean   :12.49   Mean   : 7.4822   Mean   :23081  \n",
       " 3rd Qu.:52.00   3rd Qu.:15.00   3rd Qu.: 9.1667   3rd Qu.:28200  \n",
       " Max.   :60.00   Max.   :17.00   Max.   :40.5090   Max.   :96000  \n",
       "      MTR              WMED             WFED              UN        \n",
       " Min.   :0.4415   Min.   : 0.000   Min.   : 0.000   Min.   : 3.000  \n",
       " 1st Qu.:0.6215   1st Qu.: 7.000   1st Qu.: 7.000   1st Qu.: 7.500  \n",
       " Median :0.6915   Median :10.000   Median : 7.000   Median : 7.500  \n",
       " Mean   :0.6789   Mean   : 9.251   Mean   : 8.809   Mean   : 8.624  \n",
       " 3rd Qu.:0.7215   3rd Qu.:12.000   3rd Qu.:12.000   3rd Qu.:11.000  \n",
       " Max.   :0.9415   Max.   :17.000   Max.   :17.000   Max.   :14.000  \n",
       "      CIT              AX.       \n",
       " Min.   :0.0000   Min.   : 0.00  \n",
       " 1st Qu.:0.0000   1st Qu.: 4.00  \n",
       " Median :1.0000   Median : 9.00  \n",
       " Mean   :0.6428   Mean   :10.63  \n",
       " 3rd Qu.:1.0000   3rd Qu.:15.00  \n",
       " Max.   :1.0000   Max.   :45.00  "
      ]
     },
     "metadata": {},
     "output_type": "display_data"
    }
   ],
   "source": [
    "attach(LFP)\n",
    "summary(LFP)"
   ]
  },
  {
   "cell_type": "markdown",
   "metadata": {},
   "source": [
    "+ The dependent variable (WHRS) is the wife's hours worked in 1975: NUM DE HORAS OFRECIDAS EN MERC LABORAL\n",
    "+ The independent variables are a constant \n",
    "+ number of children less than 6 years old (KL6)\n",
    "+ number of children between 6 and 18 (KL618)\n",
    "+ CIT is a dummy for whether live in a large city or not\n",
    "+ wife's age (WA)\n",
    "+ wife's education (WE)"
   ]
  },
  {
   "cell_type": "markdown",
   "metadata": {},
   "source": [
    "WHRS está censurada (Las mujeres que no trabajan son agrupadas en cero horas)"
   ]
  },
  {
   "cell_type": "code",
   "execution_count": 5,
   "metadata": {},
   "outputs": [],
   "source": [
    "library(survival)"
   ]
  },
  {
   "cell_type": "markdown",
   "metadata": {},
   "source": [
    "Estimating the censored Tobit model. Note that the element WHRS > 0 gives the non-censored observations. The \"left\" option implies left censoring."
   ]
  },
  {
   "cell_type": "code",
   "execution_count": 6,
   "metadata": {},
   "outputs": [
    {
     "data": {
      "text/plain": [
       "\n",
       "Call:\n",
       "lm(formula = WHRS ~ KL6 + K618 + WA + WE, data = LFP)\n",
       "\n",
       "Residuals:\n",
       "    Min      1Q  Median      3Q     Max \n",
       "-1355.3  -685.6  -242.2   670.2  3986.2 \n",
       "\n",
       "Coefficients:\n",
       "            Estimate Std. Error t value Pr(>|t|)    \n",
       "(Intercept) 1450.031    288.544   5.025 6.29e-07 ***\n",
       "KL6         -520.362     64.425  -8.077 2.66e-15 ***\n",
       "K618         -91.624     25.087  -3.652 0.000278 ***\n",
       "WA           -22.621      4.541  -4.981 7.84e-07 ***\n",
       "WE            40.733     13.457   3.027 0.002554 ** \n",
       "---\n",
       "Signif. codes:  0 ‘***’ 0.001 ‘**’ 0.01 ‘*’ 0.05 ‘.’ 0.1 ‘ ’ 1\n",
       "\n",
       "Residual standard error: 828.7 on 748 degrees of freedom\n",
       "Multiple R-squared:  0.1003,\tAdjusted R-squared:  0.09549 \n",
       "F-statistic: 20.85 on 4 and 748 DF,  p-value: 2.617e-16\n"
      ]
     },
     "metadata": {},
     "output_type": "display_data"
    }
   ],
   "source": [
    "ols.out = lm(WHRS~ KL6 + K618 + WA + WE, data=LFP)\n",
    "summary(ols.out)"
   ]
  },
  {
   "cell_type": "code",
   "execution_count": 7,
   "metadata": {},
   "outputs": [],
   "source": [
    "tobit.out = survreg(Surv(WHRS, WHRS>0, type='left') ~ KL6 + K618 + WA + WE, data=LFP, dist='gaussian')"
   ]
  },
  {
   "cell_type": "markdown",
   "metadata": {},
   "source": [
    "whrs>0 censurada en cero, type left: censura por izquierda, para que los datos censurados se distribuyan normales, hacer transformación monótona a los datos o si no cambiar la dist, pero la función de max verosimil puede ser más compleja o que no ser convergente."
   ]
  },
  {
   "cell_type": "code",
   "execution_count": 8,
   "metadata": {},
   "outputs": [
    {
     "data": {
      "text/plain": [
       "\n",
       "Call:\n",
       "survreg(formula = Surv(WHRS, WHRS > 0, type = \"left\") ~ KL6 + \n",
       "    K618 + WA + WE, data = LFP, dist = \"gaussian\")\n",
       "               Value Std. Error      z        p\n",
       "(Intercept)  1320.87   482.9241   2.74 6.24e-03\n",
       "KL6         -1077.45   126.2053  -8.54 1.37e-17\n",
       "K618         -128.26    42.7478  -3.00 2.70e-03\n",
       "WA            -41.51     7.7026  -5.39 7.11e-08\n",
       "WE             95.50    22.8631   4.18 2.95e-05\n",
       "Log(scale)      7.16     0.0376 190.25 0.00e+00\n",
       "\n",
       "Scale= 1281 \n",
       "\n",
       "Gaussian distribution\n",
       "Loglik(model)= -3904.2   Loglik(intercept only)= -3954.9\n",
       "\tChisq= 101.45 on 4 degrees of freedom, p= 0 \n",
       "Number of Newton-Raphson Iterations: 3 \n",
       "n= 753 \n"
      ]
     },
     "metadata": {},
     "output_type": "display_data"
    }
   ],
   "source": [
    "summary(tobit.out)"
   ]
  },
  {
   "cell_type": "markdown",
   "metadata": {},
   "source": [
    "El orden de magnitud cambia con respecto a los coef or OLS, Las interpretaciones son las mismas.\n",
    "\n",
    "Interpretación: (WA= -53.21) El valor predicho de la var. depend se disminuye en 53.2 unidades cuando aumenta la edad de las mujeres.\n",
    "\n",
    "Tobit regression coefficients are interpreted in the similar manner to OLS regression coefficients; however, the linear effect is on the uncensored latent variable, not the observed outcome.\n",
    "\n",
    "For a one unit increase in WA, there is a 53.2 point decrease in the predicted value of WHRS.\n",
    "For a one unit increase in WE, there is a 239.9 point increase in the predicted value of WHRS.\n",
    "\n",
    "You can obtain predicted values from the Tobit regression as follows:"
   ]
  },
  {
   "cell_type": "code",
   "execution_count": 13,
   "metadata": {},
   "outputs": [
    {
     "data": {
      "text/html": [
       "753"
      ],
      "text/latex": [
       "753"
      ],
      "text/markdown": [
       "753"
      ],
      "text/plain": [
       "[1] 753"
      ]
     },
     "metadata": {},
     "output_type": "display_data"
    },
    {
     "name": "stdout",
     "output_type": "stream",
     "text": [
      " [1]   61.30482  965.24660 -447.98613  670.96739   37.30060  225.63898\n",
      " [7] 1056.72531  225.63898  218.15320  591.69990  968.98949  499.93904\n",
      "[13] -112.20172  425.67915  362.93009  533.95844  425.67915  206.92453\n",
      "[19]  599.18569  501.20374\n"
     ]
    }
   ],
   "source": [
    "WHRShat = predict(tobit.out,type=\"response\") \n",
    "length(WHRShat)\n",
    "print(head(WHRShat,20)) #valores predichos sólo en los censurados (y), pero necesitamos todos (y*)"
   ]
  },
  {
   "cell_type": "code",
   "execution_count": 14,
   "metadata": {},
   "outputs": [
    {
     "data": {
      "text/html": [
       "-3904.16872889154"
      ],
      "text/latex": [
       "-3904.16872889154"
      ],
      "text/markdown": [
       "-3904.16872889154"
      ],
      "text/plain": [
       "[1] -3904.169"
      ]
     },
     "metadata": {},
     "output_type": "display_data"
    }
   ],
   "source": [
    "# We will also save the log likelihood for the model for later use.\n",
    "lltobit = tobit.out$loglik[2:2]\n",
    "lltobit #valor de verosimilitud"
   ]
  },
  {
   "cell_type": "markdown",
   "metadata": {},
   "source": [
    "However, this prediction would assume that we are interested in predictions on y*. However, y* is latent and partially determined by a probit. Thus, following Greene, p. 764 the expected value must take into account the probability of censoring. First, get the standard deviation of the latent residuals.\n",
    "\n",
    "Usando censura se derivan conclusiones basándose en y* (no observable) o en y (observable), obtendremos los valores censurados y no censurados"
   ]
  },
  {
   "cell_type": "code",
   "execution_count": 15,
   "metadata": {},
   "outputs": [
    {
     "data": {
      "text/html": [
       "1281.17916714382"
      ],
      "text/latex": [
       "1281.17916714382"
      ],
      "text/markdown": [
       "1281.17916714382"
      ],
      "text/plain": [
       "[1] 1281.179"
      ]
     },
     "metadata": {},
     "output_type": "display_data"
    }
   ],
   "source": [
    "SD <- tobit.out$scale\n",
    "SD"
   ]
  },
  {
   "cell_type": "code",
   "execution_count": 17,
   "metadata": {},
   "outputs": [
    {
     "name": "stdout",
     "output_type": "stream",
     "text": [
      " [1] 0.7676738 0.3878732 1.0330029 0.4970536 0.7794427 0.6892494 0.3570053\n",
      " [8] 0.6892494 0.6927385 0.5289644 0.3865811 0.5671821 0.8544610 0.5990914\n",
      "[15] 0.6267226 0.5528554 0.5990914 0.6979873 0.5259067 0.5666462\n"
     ]
    }
   ],
   "source": [
    "# Now calculate the inverse Mills ratio called lambda. dnorm returns the pdf and pnorm the cdf.\n",
    "lambda = dnorm(WHRShat/SD)/pnorm(WHRShat/SD) #phi min/ phi mayus\n",
    "print(head(lambda,20))"
   ]
  },
  {
   "cell_type": "code",
   "execution_count": 19,
   "metadata": {},
   "outputs": [
    {
     "name": "stdout",
     "output_type": "stream",
     "text": [
      " [1]  542.3540 1132.3086  318.0553  915.1338  529.9834  631.8424 1204.1126\n",
      " [8]  631.8424  627.5849  860.5275 1135.2087  799.5135  456.9745  751.9115\n",
      "[15]  712.9532  821.8542  751.9115  621.2308  865.6100  800.3381\n"
     ]
    }
   ],
   "source": [
    "# Now calculate the expected value given censoring and X\n",
    "EYgivenX = pnorm(WHRShat/SD)*(WHRShat + SD*lambda)\n",
    "print(head(EYgivenX,20)) #Hacen referencia al y*= censurada+no censurada"
   ]
  },
  {
   "cell_type": "markdown",
   "metadata": {},
   "source": [
    "## Marginal effects "
   ]
  },
  {
   "cell_type": "markdown",
   "metadata": {},
   "source": [
    "Theory suggest (McDonald and Moffit, 1980) a useful decomposition of the marginal effects associated with the censored regression model. They show that a change in the conditional mean due to right side variables derives from two sources:\n",
    "\n",
    "1) It affects the conditional mean in the uncensored part of the distribution \n",
    "\n",
    "2) It affects the conditional mean by also affecting the probability that an observation will lie in the uncensored part of the distribution.\n",
    "\n",
    "El efecto marginal dice cómo cambia la variable y ante cambios en las x. Suma de la prob de trabajar + la parte de la distribucion asociada a las personas que trabajan\n",
    "\n",
    "Dos decisiones: Trabajar o no; y si trabajo, cuánto tiempo voy a trabajar."
   ]
  },
  {
   "cell_type": "code",
   "execution_count": 20,
   "metadata": {},
   "outputs": [
    {
     "name": "stdout",
     "output_type": "stream",
     "text": [
      "          [,1]\n",
      "[1,] 0.5922907\n"
     ]
    }
   ],
   "source": [
    "xbar = as.matrix(colMeans(cbind(1,LFP[3:6]))) # Computingthe mean for control variables\n",
    "beta = coefficients(tobit.out)\n",
    "BXoverS = t(beta) %*% xbar/SD  # Computing X'b/ sigma\n",
    "Mu = dnorm(BXoverS)/pnorm(BXoverS)\n",
    "P = pnorm(BXoverS)\n",
    "print(P)\n",
    "marginaleffects= beta%*%P"
   ]
  },
  {
   "cell_type": "code",
   "execution_count": 22,
   "metadata": {},
   "outputs": [
    {
     "name": "stdout",
     "output_type": "stream",
     "text": [
      "         [,1]\n",
      "[1,] 0.247205\n",
      "          [,1]\n",
      "[1,] 0.3450857\n"
     ]
    }
   ],
   "source": [
    "#Descomposici?n\n",
    "P1 = P*(1-BXoverS*Mu-Mu^2) #pag 766 1-lambda(alphai-lambdai)\n",
    "print(P1) #Distribuci?n d ela parte no censurada (de los que trabajan)\n",
    "P2 = dnorm(BXoverS)*BXoverS+dnorm(BXoverS)*Mu\n",
    "print(P2) #Prob de trabajar o no "
   ]
  },
  {
   "cell_type": "markdown",
   "metadata": {},
   "source": [
    "We can also calculate marginal effects on the expected value of the unconditional distribution, the expected value of the uncensored distribution, as well as probabilities of being in the uncensored part of the distribution as follows.\n",
    "\n",
    "Valor esperado incondicional (Sin efecto de las variables de control) (coger todos los datos históricos y sacar un promedio)\n",
    "\n",
    "condicional: usar variables explicativas"
   ]
  },
  {
   "cell_type": "code",
   "execution_count": 24,
   "metadata": {},
   "outputs": [
    {
     "name": "stdout",
     "output_type": "stream",
     "text": [
      "        rawcoeff  mfxuncond mfxuncensored puncensored\n",
      "KL6  -1077.44833 -612.41419    -433.81754 -0.33056075\n",
      "K618  -128.25846  -72.90122     -51.64124 -0.03934965\n",
      "WA     -41.50519  -23.59126     -16.71141 -0.01273378\n",
      "WE      95.50376   54.28368      38.45308  0.02930052\n"
     ]
    }
   ],
   "source": [
    "N=nrow(LFP)\n",
    "censored = sum(WHRS<=0) # 50 censored observations\n",
    "Fz = (N-censored)/N \n",
    "z = qnorm(Fz)\n",
    "fz = 1/sqrt(2*pi)*exp(-.5*z^2) # Standard normal distribution\n",
    "cond = (1-(z*fz/Fz))-fz^2/Fz^2\n",
    "uncond = Fz\n",
    "prob = fz/SD\n",
    "rawcoeff = beta[2:5]\n",
    "mfxuncond = rawcoeff*uncond #1\n",
    "mfxuncensored = rawcoeff*cond #2\n",
    "puncensored = rawcoeff*prob #3\n",
    "table = cbind(rawcoeff,mfxuncond,mfxuncensored,puncensored)\n",
    "print(table) #columnas (coeficientes, efectos incondi, efectos marginales no censurados, pro de no estar censurado)"
   ]
  },
  {
   "cell_type": "markdown",
   "metadata": {},
   "source": [
    "Interpretación KL6:\n",
    "\n",
    "-1523: Manteniendo lo demás constantes, es un aumento en el num de hijos menores de seis disminuye el num de horas ofrecidas en el mercado\n",
    "\n",
    "-761: (Sin la presencia de las demás variables) El efecto de tener hijos menores de seis \n",
    "\n",
    "-553: Un aumento en un hijo menor de seis disminuye el número de horas que se ofrecen\n",
    "\n",
    "-0.43: Tener hijos menores a seis disminuye la prob de trabajar"
   ]
  },
  {
   "cell_type": "markdown",
   "metadata": {},
   "source": [
    "## Checking normality"
   ]
  },
  {
   "cell_type": "markdown",
   "metadata": {},
   "source": [
    "The censored regression model assumes that the uncensored part of the  distribution is normal. If it is not, then estimates are inconsistent. We can test this assumption. Drop the censored observations and test for normality "
   ]
  },
  {
   "cell_type": "code",
   "execution_count": 25,
   "metadata": {},
   "outputs": [
    {
     "data": {
      "text/plain": [
       "      LFP         WHRS             KL6              K618            WA       \n",
       " Min.   :1   Min.   :  12.0   Min.   :0.0000   Min.   :0.00   Min.   :30.00  \n",
       " 1st Qu.:1   1st Qu.: 609.5   1st Qu.:0.0000   1st Qu.:0.00   1st Qu.:35.00  \n",
       " Median :1   Median :1365.5   Median :0.0000   Median :1.00   Median :42.00  \n",
       " Mean   :1   Mean   :1302.9   Mean   :0.1402   Mean   :1.35   Mean   :41.97  \n",
       " 3rd Qu.:1   3rd Qu.:1910.5   3rd Qu.:0.0000   3rd Qu.:2.00   3rd Qu.:47.25  \n",
       " Max.   :1   Max.   :4950.0   Max.   :2.0000   Max.   :8.00   Max.   :60.00  \n",
       "       WE              WW               RPWG            HHRS     \n",
       " Min.   : 5.00   Min.   : 0.1282   Min.   :0.000   Min.   : 175  \n",
       " 1st Qu.:12.00   1st Qu.: 2.2626   1st Qu.:1.420   1st Qu.:1920  \n",
       " Median :12.00   Median : 3.4819   Median :3.195   Median :2106  \n",
       " Mean   :12.66   Mean   : 4.1777   Mean   :3.186   Mean   :2233  \n",
       " 3rd Qu.:14.00   3rd Qu.: 4.9707   3rd Qu.:4.550   3rd Qu.:2504  \n",
       " Max.   :17.00   Max.   :25.0000   Max.   :9.980   Max.   :5010  \n",
       "       HA              HE              HW              FAMINC     \n",
       " Min.   :30.00   Min.   : 4.00   Min.   : 0.5128   Min.   : 2400  \n",
       " 1st Qu.:38.00   1st Qu.:11.00   1st Qu.: 4.8217   1st Qu.:16286  \n",
       " Median :45.00   Median :12.00   Median : 6.6831   Median :21961  \n",
       " Mean   :44.61   Mean   :12.61   Mean   : 7.2262   Mean   :24130  \n",
       " 3rd Qu.:51.00   3rd Qu.:16.00   3rd Qu.: 8.8378   3rd Qu.:29793  \n",
       " Max.   :60.00   Max.   :17.00   Max.   :26.5780   Max.   :91044  \n",
       "      MTR              WMED             WFED              UN        \n",
       " Min.   :0.4415   Min.   : 0.000   Min.   : 0.000   Min.   : 3.000  \n",
       " 1st Qu.:0.6215   1st Qu.: 7.000   1st Qu.: 7.000   1st Qu.: 7.500  \n",
       " Median :0.6915   Median :10.000   Median : 7.000   Median : 7.500  \n",
       " Mean   :0.6683   Mean   : 9.516   Mean   : 8.988   Mean   : 8.546  \n",
       " 3rd Qu.:0.7215   3rd Qu.:12.000   3rd Qu.:12.000   3rd Qu.:11.000  \n",
       " Max.   :0.9415   Max.   :17.000   Max.   :17.000   Max.   :14.000  \n",
       "      CIT              AX.       \n",
       " Min.   :0.0000   Min.   : 0.00  \n",
       " 1st Qu.:0.0000   1st Qu.: 7.00  \n",
       " Median :1.0000   Median :12.00  \n",
       " Mean   :0.6402   Mean   :13.04  \n",
       " 3rd Qu.:1.0000   3rd Qu.:18.00  \n",
       " Max.   :1.0000   Max.   :38.00  "
      ]
     },
     "metadata": {},
     "output_type": "display_data"
    }
   ],
   "source": [
    "LFP2 = subset(LFP, subset=WHRS>0)\n",
    "summary(LFP2)"
   ]
  },
  {
   "cell_type": "code",
   "execution_count": 37,
   "metadata": {},
   "outputs": [
    {
     "data": {
      "text/html": [
       "0.40153495735856"
      ],
      "text/latex": [
       "0.40153495735856"
      ],
      "text/markdown": [
       "0.40153495735856"
      ],
      "text/plain": [
       "[1] 0.401535"
      ]
     },
     "metadata": {},
     "output_type": "display_data"
    },
    {
     "data": {
      "text/html": [
       "0.685998564796079"
      ],
      "text/latex": [
       "0.685998564796079"
      ],
      "text/markdown": [
       "0.685998564796079"
      ],
      "text/plain": [
       "[1] 0.6859986"
      ]
     },
     "metadata": {},
     "output_type": "display_data"
    }
   ],
   "source": [
    "library(e1071)\n",
    "skewness(LFP2$WHRS)\n",
    "kurtosis(LFP2$WHRS)"
   ]
  },
  {
   "cell_type": "code",
   "execution_count": 27,
   "metadata": {},
   "outputs": [
    {
     "data": {
      "text/html": [
       "<ol class=list-inline>\n",
       "\t<li>126</li>\n",
       "\t<li>37</li>\n",
       "</ol>\n"
      ],
      "text/latex": [
       "\\begin{enumerate*}\n",
       "\\item 126\n",
       "\\item 37\n",
       "\\end{enumerate*}\n"
      ],
      "text/markdown": [
       "1. 126\n",
       "2. 37\n",
       "\n",
       "\n"
      ],
      "text/plain": [
       "[1] 126  37"
      ]
     },
     "metadata": {},
     "output_type": "display_data"
    },
    {
     "data": {
      "image/png": "[encoded data removed]",
      "text/plain": [
       "plot without title"
      ]
     },
     "metadata": {},
     "output_type": "display_data"
    },
    {
     "data": {
      "image/png": "[encoded data removed]",
      "text/plain": [
       "Plot with title “Histogram of LFP2$WHRS”"
      ]
     },
     "metadata": {},
     "output_type": "display_data"
    }
   ],
   "source": [
    "library(car)\n",
    "options(repr.plot.width=6, repr.plot.height=4)\n",
    "qqPlot(LFP2$WHRS, dist= \"norm\")\n",
    "hist(LFP2$WHRS, probability=T, ylab='Density')\n",
    "lines(density(LFP2$WHRS), lwd=2)\n",
    "lines(density(LFP2$WHRS, adjust=.5), lwd=1)"
   ]
  },
  {
   "cell_type": "markdown",
   "metadata": {},
   "source": [
    "Al parecer los datos no censurados no son normales, una opción es modelar los datos en dos etapas para no tener que asumir normalidad\n",
    "\n",
    "N is small here, so we cannot be fully confident of these tests. However, there is some evidence of non-normality."
   ]
  },
  {
   "cell_type": "markdown",
   "metadata": {},
   "source": [
    "## Cragg's model"
   ]
  },
  {
   "cell_type": "markdown",
   "metadata": {},
   "source": [
    "Cragg has suggested that assuming a censoring limit that depends on the same distribution as the uncensored observations is often incorrect. He suggests a two equation system in which the first equation estimates the probability of being above the censoring limit and the second is a truncated regression on the uncensored observations. Below we estimate Cragg's  model using Probit and a Truncated regression procedure. Also, we do a likelihood ratio test  of whether Cragg's model is significantly different than the Tobit model.\n",
    "\n",
    "Modelar si trabajo o no (parte de la censura)\n",
    "\n",
    "Modelar por aparte el modelo truncado (quitar los censurados y analizar los demás)"
   ]
  },
  {
   "cell_type": "code",
   "execution_count": 28,
   "metadata": {},
   "outputs": [
    {
     "name": "stdout",
     "output_type": "stream",
     "text": [
      "How to cite this model in Zelig:\n",
      "  R Core Team. 2007.\n",
      "  probit: Probit Regression for Dichotomous Dependent Variables\n",
      "  in Christine Choirat, Christopher Gandrud, James Honaker, Kosuke Imai, Gary King, and Olivia Lau,\n",
      "  \"Zelig: Everyone's Statistical Software,\" http://zeligproject.org/\n",
      "Model: \n",
      "\n",
      "Call:\n",
      "z5$zelig(formula = LFP ~ KL6 + K618 + WA + WE, data = LFP)\n",
      "\n",
      "Deviance Residuals: \n",
      "    Min       1Q   Median       3Q      Max  \n",
      "-2.1459  -1.1535   0.6783   0.9855   2.3031  \n",
      "\n",
      "Coefficients:\n",
      "             Estimate Std. Error z value Pr(>|z|)\n",
      "(Intercept)  0.623795   0.464538   1.343    0.179\n",
      "KL6         -0.886118   0.113451  -7.811 5.69e-15\n",
      "K618        -0.055693   0.040328  -1.381    0.167\n",
      "WA          -0.038268   0.007446  -5.140 2.75e-07\n",
      "WE           0.120031   0.022187   5.410 6.30e-08\n",
      "\n",
      "(Dispersion parameter for binomial family taken to be 1)\n",
      "\n",
      "    Null deviance: 1029.75  on 752  degrees of freedom\n",
      "Residual deviance:  930.22  on 748  degrees of freedom\n",
      "AIC: 940.22\n",
      "\n",
      "Number of Fisher Scoring iterations: 4\n",
      "\n",
      "Next step: Use 'setx' method\n",
      "Model: \n",
      "\n",
      "Call:\n",
      "z5$zelig(formula = LFP ~ KL6 + K618 + WA + WE, data = LFP)\n",
      "\n",
      "Deviance Residuals: \n",
      "    Min       1Q   Median       3Q      Max  \n",
      "-2.1459  -1.1535   0.6783   0.9855   2.3031  \n",
      "\n",
      "Coefficients:\n",
      "             Estimate Std. Error z value Pr(>|z|)\n",
      "(Intercept)  0.623795   0.464538   1.343    0.179\n",
      "KL6         -0.886118   0.113451  -7.811 5.69e-15\n",
      "K618        -0.055693   0.040328  -1.381    0.167\n",
      "WA          -0.038268   0.007446  -5.140 2.75e-07\n",
      "WE           0.120031   0.022187   5.410 6.30e-08\n",
      "\n",
      "(Dispersion parameter for binomial family taken to be 1)\n",
      "\n",
      "    Null deviance: 1029.75  on 752  degrees of freedom\n",
      "Residual deviance:  930.22  on 748  degrees of freedom\n",
      "AIC: 940.22\n",
      "\n",
      "Number of Fisher Scoring iterations: 4\n",
      "\n",
      "Next step: Use 'setx' method\n"
     ]
    },
    {
     "data": {
      "text/html": [
       "-58.155"
      ],
      "text/latex": [
       "-58.155"
      ],
      "text/markdown": [
       "-58.155"
      ],
      "text/plain": [
       "[1] -58.155"
      ]
     },
     "metadata": {},
     "output_type": "display_data"
    }
   ],
   "source": [
    "library(Zelig)\n",
    "\n",
    "probit.out = zelig(LFP ~ KL6 + K618 + WA + WE,  model = \"probit\", data = LFP)\n",
    "summary(probit.out)\n",
    "probitsummary.out = summary(probit.out) # modelo para la censura) se escoge probit porque se asume normalidad\n",
    "llprobit = -.5 * probitsummary.out$deviance \n",
    "llprobit = -.5 * 116.31\n",
    "llprobit "
   ]
  },
  {
   "cell_type": "markdown",
   "metadata": {},
   "source": [
    "We will write our own procedure for the truncated normal regression on the uncensored observations using MLE. First, create a new dataset using the uncensored observations."
   ]
  },
  {
   "cell_type": "code",
   "execution_count": 29,
   "metadata": {},
   "outputs": [
    {
     "data": {
      "text/html": [
       "<pre class=language-r><code>function (par, X, Y) \n",
       "{\n",
       "<span style=white-space:pre-wrap>    Y = as.vector(y)</span>\n",
       "<span style=white-space:pre-wrap>    X = as.matrix(x)</span>\n",
       "<span style=white-space:pre-wrap>    xbeta = X %*% par[1:K]</span>\n",
       "<span style=white-space:pre-wrap>    Sig = par[K1:K1]</span>\n",
       "<span style=white-space:pre-wrap>    sum(log((1/Sig) * dnorm((Y - xbeta)/Sig)) - log(1 - pnorm((L - </span>\n",
       "<span style=white-space:pre-wrap>        xbeta)/Sig)))</span>\n",
       "}</code></pre>"
      ],
      "text/latex": [
       "\\begin{minted}{r}\n",
       "function (par, X, Y) \n",
       "\\{\n",
       "    Y = as.vector(y)\n",
       "    X = as.matrix(x)\n",
       "    xbeta = X \\%*\\% par{[}1:K{]}\n",
       "    Sig = par{[}K1:K1{]}\n",
       "    sum(log((1/Sig) * dnorm((Y - xbeta)/Sig)) - log(1 - pnorm((L - \n",
       "        xbeta)/Sig)))\n",
       "\\}\n",
       "\\end{minted}"
      ],
      "text/markdown": [
       "```r\n",
       "function (par, X, Y) \n",
       "{\n",
       "    Y = as.vector(y)\n",
       "    X = as.matrix(x)\n",
       "    xbeta = X %*% par[1:K]\n",
       "    Sig = par[K1:K1]\n",
       "    sum(log((1/Sig) * dnorm((Y - xbeta)/Sig)) - log(1 - pnorm((L - \n",
       "        xbeta)/Sig)))\n",
       "}\n",
       "```"
      ],
      "text/plain": [
       "function(par,X,Y) {\n",
       "Y = as.vector(y)\n",
       "X = as.matrix(x)\n",
       "xbeta = X%*%par[1:K]\n",
       "Sig = par[K1:K1]\n",
       "  sum( log((1/Sig)*dnorm((Y-xbeta)/Sig))-log(1-pnorm((L-xbeta)/Sig)))\n",
       "}"
      ]
     },
     "metadata": {},
     "output_type": "display_data"
    }
   ],
   "source": [
    "LFPsubset <- subset(LFP, subset=LFP>0)\n",
    "x = cbind(1,LFPsubset[3:6])\n",
    "y = as.vector(LFPsubset$WHRS)\n",
    "K = ncol(x)\n",
    "K1 = K+1\n",
    "n = nrow(x)\n",
    "# Assign the lower truncation limit\n",
    "L = 0\n",
    "# Define the function to be optimized\n",
    "llik.ltruncnormal <- function(par,X,Y) {\n",
    "Y = as.vector(y)\n",
    "X = as.matrix(x)\n",
    "xbeta = X%*%par[1:K]\n",
    "Sig = par[K1:K1]\n",
    "  sum( log((1/Sig)*dnorm((Y-xbeta)/Sig))-log(1-pnorm((L-xbeta)/Sig)))\n",
    "} \n",
    "llik.ltruncnormal"
   ]
  },
  {
   "cell_type": "markdown",
   "metadata": {},
   "source": [
    "Now let's use the above function to estimate the model. Get start values from a regular regression."
   ]
  },
  {
   "cell_type": "code",
   "execution_count": 30,
   "metadata": {},
   "outputs": [],
   "source": [
    "regress.out = lm(WHRS ~ KL6 + K618 + WA + WE, data = LFPsubset) #modleo para el truncmaiento (datos no censurados)\n",
    "startvalues = c(coefficients(regress.out),120)"
   ]
  },
  {
   "cell_type": "code",
   "execution_count": 32,
   "metadata": {},
   "outputs": [
    {
     "name": "stdout",
     "output_type": "stream",
     "text": [
      "initial  value 10808.071920 \n",
      "iter  10 value 3418.998038\n",
      "iter  20 value 3410.589849\n",
      "iter  30 value 3410.240545\n",
      "iter  40 value 3409.748892\n",
      "iter  50 value 3409.645797\n",
      "iter  60 value 3409.625150\n",
      "iter  70 value 3409.292826\n",
      "iter  80 value 3409.177085\n",
      "iter  90 value 3409.106874\n",
      "final  value 3409.106505 \n",
      "converged\n",
      "$par\n",
      "(Intercept)         KL6        K618          WA          WE             \n",
      " 2161.99348  -444.87552  -176.99225   -10.14405   -26.41912   896.08744 \n",
      "\n",
      "$value\n",
      "[1] -3409.107\n",
      "\n",
      "$counts\n",
      "function gradient \n",
      "      94       92 \n",
      "\n",
      "$convergence\n",
      "[1] 0\n",
      "\n",
      "$message\n",
      "NULL\n",
      "\n",
      "$hessian\n",
      "              (Intercept)           KL6          K618           WA\n",
      "(Intercept) -3.705054e-04 -4.035883e-05 -4.534968e-04 -0.015653541\n",
      "KL6         -4.035883e-05 -4.820322e-05 -6.184564e-05 -0.001391868\n",
      "K618        -4.534968e-04 -6.184564e-05 -1.132548e-03 -0.017707634\n",
      "WA          -1.565354e-02 -1.391868e-03 -1.770763e-02 -0.683667963\n",
      "WE          -4.669005e-03 -5.438778e-04 -5.640914e-03 -0.196834890\n",
      "            -3.061587e-04 -4.422418e-05 -4.702088e-04 -0.012690066\n",
      "                       WE              \n",
      "(Intercept) -0.0046690047 -3.061587e-04\n",
      "KL6         -0.0005438778 -4.422418e-05\n",
      "K618        -0.0056409135 -4.702088e-04\n",
      "WA          -0.1968348897 -1.269007e-02\n",
      "WE          -0.0607572019 -3.877972e-03\n",
      "            -0.0038779717 -7.125891e-04\n",
      "\n"
     ]
    }
   ],
   "source": [
    "# Estimate the lower truncated regression.\n",
    "ltrunc.out = optim(startvalues,llik.ltruncnormal, method = \"BFGS\", control = list(trace=1,maxit=100,fnscale = -1),hessian = TRUE)\n",
    "print(ltrunc.out)"
   ]
  },
  {
   "cell_type": "code",
   "execution_count": 34,
   "metadata": {},
   "outputs": [
    {
     "name": "stdout",
     "output_type": "stream",
     "text": [
      "                     b         se     zstat       pzstat\n",
      "(Intercept) 2161.99348 480.555866  4.498943 6.829214e-06\n",
      "KL6         -444.87552 160.703176 -2.768306 5.634857e-03\n",
      "K618        -176.99225  46.527523 -3.804033 1.423590e-04\n",
      "WA           -10.14405   7.724521 -1.313226 1.891067e-01\n",
      "WE           -26.41912  23.129680 -1.142217 2.533637e-01\n",
      "             896.08744  47.591266 18.828821 0.000000e+00\n"
     ]
    }
   ],
   "source": [
    "# Calculate standard errors, z statistics, and pvalues and report in a table.\n",
    "v = -solve(ltrunc.out$hessian)\n",
    "se = sqrt( diag(v))\n",
    "b = ltrunc.out$par\n",
    "zstat = b/se\n",
    "pzstat = 2* (1 - pnorm(abs(zstat)))\n",
    "table = cbind(b,se,zstat,pzstat)\n",
    "print(table) #modelo truncado"
   ]
  },
  {
   "cell_type": "code",
   "execution_count": 35,
   "metadata": {},
   "outputs": [
    {
     "name": "stdout",
     "output_type": "stream",
     "text": [
      "[1] -3409.107\n"
     ]
    }
   ],
   "source": [
    "# Get the log likelihood from the truncated regression.\n",
    "lltruncate = ltrunc.out$value\n",
    "print(lltruncate)"
   ]
  },
  {
   "cell_type": "code",
   "execution_count": 36,
   "metadata": {},
   "outputs": [
    {
     "name": "stdout",
     "output_type": "stream",
     "text": [
      "[1] 873.8144\n"
     ]
    }
   ],
   "source": [
    "# Calculate Cragg's test statistic (para ver si es mejor el de dos etapas o el censurado)\n",
    "lrtest = 2*((llprobit+lltruncate)-lltobit)\n",
    "print(lrtest) #comparar con una chi cuadrado "
   ]
  },
  {
   "cell_type": "markdown",
   "metadata": {},
   "source": [
    "$H_0$: mejor el modelo restringido (una sola etapa, es decir el censurado)\n",
    "como estadístico=14.33 es mayor al cuantil chi =11 se rechaza, luego es mejor el de dos etapas\n",
    "\n",
    "The restricted model is Tobit. The unrestricted model is the two models estimated separately. The test statistic is 14.34, which is chi-squared with 5 degrees of  freedom for the number of additional parameters being estimated. The critical value is 11.07, so we reject the null that the restricted model is true. The two equation approach is therefore more appropriate than Tobit."
   ]
  },
  {
   "cell_type": "markdown",
   "metadata": {},
   "source": [
    "## Using a different package\n",
    "\n",
    "### You can use also VGAM package. Example in https://stats.idre.ucla.edu/r/dae/tobit-models/"
   ]
  },
  {
   "cell_type": "code",
   "execution_count": 38,
   "metadata": {},
   "outputs": [
    {
     "name": "stderr",
     "output_type": "stream",
     "text": [
      "Loading required package: stats4\n",
      "Loading required package: splines\n",
      "\n",
      "Attaching package: ‘VGAM’\n",
      "\n",
      "The following object is masked from ‘package:car’:\n",
      "\n",
      "    logit\n",
      "\n"
     ]
    },
    {
     "data": {
      "text/plain": [
       "\n",
       "Call:\n",
       "vglm(formula = WHRS ~ KL6 + K618 + WA + WE, family = tobit(Lower = 0), \n",
       "    data = LFP)\n",
       "\n",
       "Pearson residuals:\n",
       "                Min      1Q   Median     3Q    Max\n",
       "mu          -12.458 -1.0611  0.00687 0.9639  2.405\n",
       "loglink(sd)  -1.007 -0.5926 -0.06737 0.2915 13.771\n",
       "\n",
       "Coefficients: \n",
       "                Estimate Std. Error z value Pr(>|z|)    \n",
       "(Intercept):1  1.321e+03  4.822e+02   2.739  0.00616 ** \n",
       "(Intercept):2  7.156e+00  3.642e-02 196.446  < 2e-16 ***\n",
       "KL6           -1.077e+03  1.272e+02  -8.467  < 2e-16 ***\n",
       "K618          -1.283e+02  4.311e+01  -2.975  0.00293 ** \n",
       "WA            -4.151e+01  7.659e+00  -5.419 5.99e-08 ***\n",
       "WE             9.551e+01  2.275e+01   4.198 2.69e-05 ***\n",
       "---\n",
       "Signif. codes:  0 ‘***’ 0.001 ‘**’ 0.01 ‘*’ 0.05 ‘.’ 0.1 ‘ ’ 1\n",
       "\n",
       "Names of linear predictors: mu, loglink(sd)\n",
       "\n",
       "Log-likelihood: -3904.169 on 1500 degrees of freedom\n",
       "\n",
       "Number of Fisher scoring iterations: 6 \n",
       "\n",
       "No Hauck-Donner effect found in any of the estimates\n"
      ]
     },
     "metadata": {},
     "output_type": "display_data"
    }
   ],
   "source": [
    "library(VGAM)\n",
    "summary(tobit1.out <- vglm( WHRS~ KL6 + K618 + WA + WE, tobit(Lower = 0), data = LFP))"
   ]
  },
  {
   "cell_type": "markdown",
   "metadata": {},
   "source": [
    "Conclusión: Los Supuestos deben cumplirse: el de distribución y homocedasticidad"
   ]
  },
  {
   "cell_type": "markdown",
   "metadata": {},
   "source": [
    "# Example 2: Sample selection bias"
   ]
  },
  {
   "cell_type": "markdown",
   "metadata": {},
   "source": [
    "In these cases the truncation is incidental, due to sample selection on another variable that is correlated with the truncation in the dependent variable. As discussed in class, the standard model is Heckman's two stage procedure. Once again, there is no \"canned\" procedure in R to do the Heckman model. \n",
    "#Truncamiento incidental: No se deriva del muestreo o el dise?o sino se deriva de las decisiones de las personas frente al problema a modelar\n",
    "First, estimate the first stage probit.\n",
    "Modelar en dos etapas:Ecuación de decisión (sí o no) \n",
    "Modelar dado que sí con los resultados calcular el inverso de mills y luego modelar con la variabe resultante, el número de horas ofrecidas en la ec 1 debe haber variable diferente (instrumental) a la ec dos"
   ]
  },
  {
   "cell_type": "code",
   "execution_count": 39,
   "metadata": {},
   "outputs": [
    {
     "name": "stdout",
     "output_type": "stream",
     "text": [
      "How to cite this model in Zelig:\n",
      "  R Core Team. 2007.\n",
      "  probit: Probit Regression for Dichotomous Dependent Variables\n",
      "  in Christine Choirat, Christopher Gandrud, James Honaker, Kosuke Imai, Gary King, and Olivia Lau,\n",
      "  \"Zelig: Everyone's Statistical Software,\" http://zeligproject.org/\n",
      "Model: \n",
      "\n",
      "Call:\n",
      "z5$zelig(formula = LFP ~ CIT + KL6, data = LFP)\n",
      "\n",
      "Deviance Residuals: \n",
      "    Min       1Q   Median       3Q      Max  \n",
      "-1.4050  -1.3768   0.9658   0.9903   1.7575  \n",
      "\n",
      "Coefficients:\n",
      "            Estimate Std. Error z value Pr(>|z|)\n",
      "(Intercept)  0.32469    0.08163   3.978 6.96e-05\n",
      "CIT         -0.03910    0.09738  -0.402    0.688\n",
      "KL6         -0.54005    0.09438  -5.722 1.05e-08\n",
      "\n",
      "(Dispersion parameter for binomial family taken to be 1)\n",
      "\n",
      "    Null deviance: 1029.75  on 752  degrees of freedom\n",
      "Residual deviance:  994.57  on 750  degrees of freedom\n",
      "AIC: 1000.6\n",
      "\n",
      "Number of Fisher Scoring iterations: 4\n",
      "\n",
      "Next step: Use 'setx' method\n"
     ]
    }
   ],
   "source": [
    "#La variable instrumental usada es CIT\n",
    "heckprob.out = zelig(LFP ~ CIT + KL6, model=\"probit\", data=LFP) #1a ETAPA\n",
    "# Se pueden incluir adem?s de kl6, las dem?s variables explicativas dadas inicialmente\n",
    "summary(heckprob.out)"
   ]
  },
  {
   "cell_type": "code",
   "execution_count": 43,
   "metadata": {},
   "outputs": [
    {
     "data": {
      "text/html": [
       "<ol class=list-inline>\n",
       "\t<li>753</li>\n",
       "\t<li>3</li>\n",
       "</ol>\n"
      ],
      "text/latex": [
       "\\begin{enumerate*}\n",
       "\\item 753\n",
       "\\item 3\n",
       "\\end{enumerate*}\n"
      ],
      "text/markdown": [
       "1. 753\n",
       "2. 3\n",
       "\n",
       "\n"
      ],
      "text/plain": [
       "[1] 753   3"
      ]
     },
     "metadata": {},
     "output_type": "display_data"
    },
    {
     "data": {
      "text/html": [
       "<ol class=list-inline>\n",
       "\t<li>753</li>\n",
       "\t<li>1</li>\n",
       "</ol>\n"
      ],
      "text/latex": [
       "\\begin{enumerate*}\n",
       "\\item 753\n",
       "\\item 1\n",
       "\\end{enumerate*}\n"
      ],
      "text/markdown": [
       "1. 753\n",
       "2. 1\n",
       "\n",
       "\n"
      ],
      "text/plain": [
       "[1] 753   1"
      ]
     },
     "metadata": {},
     "output_type": "display_data"
    }
   ],
   "source": [
    "# Now retrieve the index function from the probit\n",
    "gamma=as.matrix(coef(heckprob.out))\n",
    "w = cbind(1,CIT,KL6)\n",
    "z = w %*% gamma\n",
    "dim(w)\n",
    "dim(z)"
   ]
  },
  {
   "cell_type": "code",
   "execution_count": 44,
   "metadata": {},
   "outputs": [
    {
     "name": "stderr",
     "output_type": "stream",
     "text": [
      "The following objects are masked _by_ .GlobalEnv:\n",
      "\n",
      "    lambda, LFP\n",
      "\n",
      "The following object is masked from package:carData:\n",
      "\n",
      "    UN\n",
      "\n"
     ]
    }
   ],
   "source": [
    "# Now calculate lambda and delta\n",
    "LFP$lambda = dnorm(z)/pnorm(z)\n",
    "LFP$delta = lambda *(lambda+z) # esta cantidad es adicional (ver libro Grind)\n",
    "detach(LFP)\n",
    "attach(LFP)"
   ]
  },
  {
   "cell_type": "code",
   "execution_count": 45,
   "metadata": {},
   "outputs": [],
   "source": [
    "# Now get the subset of the data that suffers from selection bias\n",
    "LFPheckman = subset(LFP, subset=LFP>0) #Personas que sí trabajan"
   ]
  },
  {
   "cell_type": "code",
   "execution_count": 46,
   "metadata": {},
   "outputs": [
    {
     "data": {
      "text/plain": [
       "\n",
       "Call:\n",
       "lm(formula = WHRS ~ KL6 + K618 + WA + WE + lambda, data = LFPheckman)\n",
       "\n",
       "Residuals:\n",
       "    Min      1Q  Median      3Q     Max \n",
       "-1535.2  -600.0    86.9   516.4  3587.2 \n",
       "\n",
       "Coefficients:\n",
       "             Estimate Std. Error t value Pr(>|t|)    \n",
       "(Intercept)  2925.316   1791.096   1.633 0.103161    \n",
       "KL6           112.422   1036.942   0.108 0.913717    \n",
       "K618         -119.267     30.569  -3.902 0.000111 ***\n",
       "WA             -8.430      5.504  -1.532 0.126366    \n",
       "WE            -21.386     16.409  -1.303 0.193175    \n",
       "lambda      -1280.112   2933.638  -0.436 0.662801    \n",
       "---\n",
       "Signif. codes:  0 ‘***’ 0.001 ‘**’ 0.01 ‘*’ 0.05 ‘.’ 0.1 ‘ ’ 1\n",
       "\n",
       "Residual standard error: 755.4 on 422 degrees of freedom\n",
       "Multiple R-squared:  0.06407,\tAdjusted R-squared:  0.05298 \n",
       "F-statistic: 5.778 on 5 and 422 DF,  p-value: 3.57e-05\n"
      ]
     },
     "metadata": {},
     "output_type": "display_data"
    }
   ],
   "source": [
    "# Now run the second stage regression that includes lambda (the Mills ratio) from the probit. \n",
    "heckman.out = lm( WHRS ~ KL6 + K618 + WA + WE + lambda, data=LFPheckman) #2a ETAPA, lamda=inverso de mills\n",
    "summary(heckman.out) #Modelo OLS"
   ]
  },
  {
   "cell_type": "markdown",
   "metadata": {},
   "source": [
    "The coefficients from this OLS regression are now unbiased due to the inclusion of the source of the bias in the equation. \n",
    "\n",
    "However, the standard errors and inferential statistics will be incorrect due to not taking into account the sampling variability contained in lambda. Also, the residuals are heteroskedastic by definition. We need to compute a corrected covariance matrix of estimates for both problems."
   ]
  },
  {
   "cell_type": "code",
   "execution_count": 49,
   "metadata": {},
   "outputs": [
    {
     "name": "stdout",
     "output_type": "stream",
     "text": [
      "   lambda \n",
      "-1280.112 \n",
      "[1] 0.5092108\n",
      "         [,1]\n",
      "[1,] 1181.994\n"
     ]
    }
   ],
   "source": [
    "# First, get the standard error of the regression corrected for selection. (Grind)\n",
    "#Esto es para asegurarse de que hay homocedasticidad\n",
    "blambda = heckman.out$coefficients[6:6]\n",
    "deltabar = mean(LFPheckman$delta)\n",
    "sigma = sqrt(((t(heckman.out$residuals) %*% heckman.out$residuals)/nrow(LFPheckman))+ deltabar*blambda^2)\n",
    "print(blambda)\n",
    "print(deltabar)\n",
    "print(sigma)"
   ]
  },
  {
   "cell_type": "code",
   "execution_count": 50,
   "metadata": {},
   "outputs": [
    {
     "name": "stdout",
     "output_type": "stream",
     "text": [
      "         [,1]\n",
      "[1,] 1.172912\n",
      "         [,1]\n",
      "[1,] 1.083011\n"
     ]
    }
   ],
   "source": [
    "# Next obtain rho in the correction rho*sigma*lambda*wgamma, Greene p. 784\n",
    "rho2 = blambda^2/sigma^2\n",
    "rho = sqrt(rho2)\n",
    "print(rho2)\n",
    "print(rho)"
   ]
  },
  {
   "cell_type": "code",
   "execution_count": 51,
   "metadata": {},
   "outputs": [
    {
     "name": "stdout",
     "output_type": "stream",
     "text": [
      "[1] 428\n"
     ]
    },
    {
     "data": {
      "text/html": [
       "183184"
      ],
      "text/latex": [
       "183184"
      ],
      "text/markdown": [
       "183184"
      ],
      "text/plain": [
       "[1] 183184"
      ]
     },
     "metadata": {},
     "output_type": "display_data"
    },
    {
     "data": {
      "text/html": [
       "183184"
      ],
      "text/latex": [
       "183184"
      ],
      "text/markdown": [
       "183184"
      ],
      "text/plain": [
       "[1] 183184"
      ]
     },
     "metadata": {},
     "output_type": "display_data"
    }
   ],
   "source": [
    "# Next obtain an n x n Identity matrix, the Delta matrix, and I-rho^2 Delta.\n",
    "# These are from Greene, p 785\n",
    "n = nrow(LFPheckman)\n",
    "I = matrix(0,nrow=n,ncol=n)\n",
    "I[row(I)==col(I)] = 1\n",
    "print(n)\n",
    "Delta = as.vector(LFPheckman$delta[,1]) * I\n",
    "IminusRho2Delta = (I - as.numeric(rho2)*Delta)\n",
    "length(Delta)\n",
    "length(IminusRho2Delta)"
   ]
  },
  {
   "cell_type": "code",
   "execution_count": 53,
   "metadata": {},
   "outputs": [
    {
     "data": {
      "text/html": [
       "2568"
      ],
      "text/latex": [
       "2568"
      ],
      "text/markdown": [
       "2568"
      ],
      "text/plain": [
       "[1] 2568"
      ]
     },
     "metadata": {},
     "output_type": "display_data"
    },
    {
     "data": {
      "text/html": [
       "1284"
      ],
      "text/latex": [
       "1284"
      ],
      "text/markdown": [
       "1284"
      ],
      "text/plain": [
       "[1] 1284"
      ]
     },
     "metadata": {},
     "output_type": "display_data"
    }
   ],
   "source": [
    "# Now calculate the correction factor Q\n",
    "xstar = cbind(1,LFPheckman[,2],LFPheckman[,3],LFPheckman[,4],LFPheckman[,5],LFPheckman[,6])\n",
    "w = cbind(1,LFPheckman$CIT,LFPheckman$KL6)\n",
    "length(xstar)\n",
    "length(w)"
   ]
  },
  {
   "cell_type": "code",
   "execution_count": 56,
   "metadata": {},
   "outputs": [
    {
     "ename": "ERROR",
     "evalue": "Error in (t(xstar) %*% Delta %*% w) %*% vcov(heckprob.out): requires numeric/complex matrix/vector arguments\n",
     "output_type": "error",
     "traceback": [
      "Error in (t(xstar) %*% Delta %*% w) %*% vcov(heckprob.out): requires numeric/complex matrix/vector arguments\nTraceback:\n"
     ]
    }
   ],
   "source": [
    "Q = (t(xstar) %*% Delta %*% w) %*% vcov(heckprob.out) %*% (t(w) %*% Delta %*% xstar)\n",
    "#length(Q)"
   ]
  },
  {
   "cell_type": "code",
   "execution_count": 54,
   "metadata": {},
   "outputs": [
    {
     "ename": "ERROR",
     "evalue": "Error in eval(expr, envir, enclos): object 'Q' not found\n",
     "output_type": "error",
     "traceback": [
      "Error in eval(expr, envir, enclos): object 'Q' not found\nTraceback:\n"
     ]
    }
   ],
   "source": [
    "# Now, obtain the corrected asymptotic covariance matrix of coefficients.\n",
    "#vcovheckman = as.numeric(sigma^2) *(solve(t(xstar) %*% xstar) %*% (t(xstar) %*% IminusRho2Delta %*% xstar + Q) %*% solve(t(xstar) %*% xstar))"
   ]
  },
  {
   "cell_type": "code",
   "execution_count": 55,
   "metadata": {},
   "outputs": [
    {
     "ename": "ERROR",
     "evalue": "Error in diag(vcovheckman): object 'vcovheckman' not found\n",
     "output_type": "error",
     "traceback": [
      "Error in diag(vcovheckman): object 'vcovheckman' not found\nTraceback:\n",
      "1. diag(vcovheckman)"
     ]
    }
   ],
   "source": [
    "# Now produce corrected standard errors, z statistics and pvalues along with the coefficients\n",
    "se = sqrt( diag(vcovheckman))\n",
    "b = heckman.out$coefficients[1:6]\n",
    "zstat = b/se\n",
    "pzstat = 2* (1 - pnorm(abs(zstat)))\n",
    "table = cbind(b,se,zstat,pzstat)\n",
    "print(table)"
   ]
  },
  {
   "cell_type": "markdown",
   "metadata": {},
   "source": [
    "## Using sampleSelection package"
   ]
  },
  {
   "cell_type": "code",
   "execution_count": 66,
   "metadata": {},
   "outputs": [
    {
     "name": "stderr",
     "output_type": "stream",
     "text": [
      "\n",
      "Attaching package: ‘zoo’\n",
      "\n",
      "The following objects are masked from ‘package:base’:\n",
      "\n",
      "    as.Date, as.Date.numeric\n",
      "\n",
      "\n",
      "Attaching package: ‘lmtest’\n",
      "\n",
      "The following object is masked from ‘package:VGAM’:\n",
      "\n",
      "    lrtest\n",
      "\n",
      "\n",
      "Please cite the 'systemfit' package as:\n",
      "Arne Henningsen and Jeff D. Hamann (2007). systemfit: A Package for Estimating Systems of Simultaneous Equations in R. Journal of Statistical Software 23(4), 1-40. http://www.jstatsoft.org/v23/i04/.\n",
      "\n",
      "If you have questions, suggestions, or comments regarding the 'systemfit' package, please use a forum or 'tracker' at systemfit's R-Forge site:\n",
      "https://r-forge.r-project.org/projects/systemfit/\n",
      "\n",
      "Please cite the 'maxLik' package as:\n",
      "Henningsen, Arne and Toomet, Ott (2011). maxLik: A package for maximum likelihood estimation in R. Computational Statistics 26(3), 443-458. DOI 10.1007/s00180-010-0217-1.\n",
      "\n",
      "If you have questions, suggestions, or comments regarding the 'maxLik' package, please use a forum or 'tracker' at maxLik's R-Forge site:\n",
      "https://r-forge.r-project.org/projects/maxlik/\n"
     ]
    },
    {
     "ename": "ERROR",
     "evalue": "Error in library(sampleSelection): there is no package called ‘sampleSelection’\n",
     "output_type": "error",
     "traceback": [
      "Error in library(sampleSelection): there is no package called ‘sampleSelection’\nTraceback:\n",
      "1. library(sampleSelection)",
      "2. stop(txt, domain = NA)"
     ]
    }
   ],
   "source": [
    "library(zoo)\n",
    "library(lmtest)\n",
    "library(Matrix) \n",
    "library(systemfit)\n",
    "library(miscTools)\n",
    "library(maxLik)\n",
    "library(sampleSelection) #Manejar problemas de selección"
   ]
  },
  {
   "cell_type": "markdown",
   "metadata": {},
   "source": [
    "The data se Mroz87 is 1975 data on married women's pay and labor-force participation. We will estimate a log wage equation for married women, in which the natural log of wages is a function of education, experience, experience squared, and a dummy variable for living in a big city. The issue here is that we can only observe the wage for women who are working for a wage. A substantial proportion of married women in 1975 were out of the labor force, so an OLS estimate of the wage equation would be estimated using a sample subject to considerable sample selection, potentially resulting in bias of the nature discussed above.\n",
    "Because we have observations in the data set on non-participants (not working for pay), we can implement models that correct for the selection process."
   ]
  },
  {
   "cell_type": "code",
   "execution_count": 61,
   "metadata": {},
   "outputs": [
    {
     "name": "stdout",
     "output_type": "stream",
     "text": [
      "  lfp hours kids5 kids618 age educ   wage repwage hushrs husage huseduc huswage\n",
      "1   1  1610     1       0  32   12 3.3540    2.65   2708     34      12  4.0288\n",
      "2   1  1656     0       2  30   12 1.3889    2.65   2310     30       9  8.4416\n",
      "3   1  1980     1       3  35   12 4.5455    4.04   3072     40      12  3.5807\n",
      "4   1   456     0       3  34   12 1.0965    3.25   1920     53      10  3.5417\n",
      "5   1  1568     1       2  31   14 4.5918    3.60   2000     32      12 10.0000\n",
      "6   1  2032     0       0  54   12 4.7421    4.70   1040     57      11  6.7106\n",
      "  faminc    mtr motheduc fatheduc unem city exper  nwifeinc wifecoll huscoll\n",
      "1  16310 0.7215       12        7  5.0    0    14 10.910060    FALSE   FALSE\n",
      "2  21800 0.6615        7        7 11.0    1     5 19.499981    FALSE   FALSE\n",
      "3  21040 0.6915       12        7  5.0    0    15 12.039910    FALSE   FALSE\n",
      "4   7300 0.7815        7        7  5.0    0     6  6.799996    FALSE   FALSE\n",
      "5  27300 0.6215       12       14  9.5    1     7 20.100058     TRUE   FALSE\n",
      "6  19495 0.6915       14        7  7.5    1    33  9.859054    FALSE   FALSE\n"
     ]
    },
    {
     "name": "stderr",
     "output_type": "stream",
     "text": [
      "The following objects are masked from Mroz87 (pos = 3):\n",
      "\n",
      "    age, city, educ, exper, faminc, fatheduc, hours, husage, huscoll,\n",
      "    huseduc, hushrs, huswage, kids5, kids618, lfp, motheduc, mtr,\n",
      "    nwifeinc, repwage, unem, wage, wifecoll\n",
      "\n"
     ]
    }
   ],
   "source": [
    "Mroz87=read.csv(\"~/Mroz87.txt\", sep=\"\")\n",
    "#data(Mroz87)\n",
    "print(head(Mroz87))\n",
    "attach(Mroz87)"
   ]
  },
  {
   "cell_type": "code",
   "execution_count": 62,
   "metadata": {},
   "outputs": [
    {
     "data": {
      "text/plain": [
       "\n",
       "Call:\n",
       "lm(formula = log(wage) ~ educ + exper + I(exper^2) + city, data = subset(Mroz87, \n",
       "    lfp == 1))\n",
       "\n",
       "Residuals:\n",
       "     Min       1Q   Median       3Q      Max \n",
       "-3.10084 -0.32453  0.05292  0.36261  2.34806 \n",
       "\n",
       "Coefficients:\n",
       "              Estimate Std. Error t value Pr(>|t|)    \n",
       "(Intercept) -0.5308476  0.1990253  -2.667  0.00794 ** \n",
       "educ         0.1057097  0.0143280   7.378 8.58e-13 ***\n",
       "exper        0.0410584  0.0131963   3.111  0.00199 ** \n",
       "I(exper^2)  -0.0007973  0.0003938  -2.025  0.04352 *  \n",
       "city         0.0542225  0.0680903   0.796  0.42629    \n",
       "---\n",
       "Signif. codes:  0 ‘***’ 0.001 ‘**’ 0.01 ‘*’ 0.05 ‘.’ 0.1 ‘ ’ 1\n",
       "\n",
       "Residual standard error: 0.6667 on 423 degrees of freedom\n",
       "Multiple R-squared:  0.1581,\tAdjusted R-squared:  0.1501 \n",
       "F-statistic: 19.86 on 4 and 423 DF,  p-value: 5.389e-15\n"
      ]
     },
     "metadata": {},
     "output_type": "display_data"
    }
   ],
   "source": [
    "# OLS: log wage regression on LF participants only\n",
    "ols1 = lm(log(wage) ~ educ + exper + I( exper^2 ) + city, data=subset(Mroz87, lfp==1))\n",
    "summary(ols1)"
   ]
  },
  {
   "cell_type": "markdown",
   "metadata": {},
   "source": [
    "Now lets turn to two alternative methods for estimating the wage equation with selection. The first is the so-called heckit or Heckman two-step correction model. A first-stage probit equation estimates the selection process (who is in the labor force?), and the results from that equation are used to construct a variable that captures the selection effect in the wage equation. This correction variable is called the inverse Mills ratio.\n",
    "\n",
    "In principle, the selection equation and the wage equation could have exactly the same set of regressors. But this is usually not a good idea. To get a good estimate of the selection model, it is very desirable to have at least one variable in the selection equation that acts like an instrument: that is, a variable that one expects would affect the selection process, but not the wage process, except through selection. In this example, the kids variable might play such a role, if we can assume that women with kids may be more likely to be stay-at-home moms, but for working moms having kids would not affect their hourly pay rate. So that we have to create a new variable that is the number of children under 18 named kids (we also cuald use  a dummy for the woman having children under 18), and we will use this as an instrument for labor-force participation."
   ]
  },
  {
   "cell_type": "code",
   "execution_count": 63,
   "metadata": {},
   "outputs": [
    {
     "ename": "ERROR",
     "evalue": "Error in heckit(lfp ~ age + I(age^2) + kids + huswage + educ, log(wage) ~ : could not find function \"heckit\"\n",
     "output_type": "error",
     "traceback": [
      "Error in heckit(lfp ~ age + I(age^2) + kids + huswage + educ, log(wage) ~ : could not find function \"heckit\"\nTraceback:\n"
     ]
    }
   ],
   "source": [
    "kids=kids5+kids618 #Variable instrumental, es buena porque afecta si trabaja o no, pero no fecta el salario\n",
    "# Two-step estimation with LFP selection equation\n",
    "heck1 = heckit( lfp ~ age + I( age^2 ) + kids + huswage + educ, log(wage) ~ educ + exper + I( exper^2 ) + city, data=Mroz87 )\n",
    "#heckit(1a ecuaci?n, 2a ecuaci?n)\n",
    "summary(heck1)"
   ]
  },
  {
   "cell_type": "markdown",
   "metadata": {},
   "source": [
    "The set-up is in the spirit of the standard lm, but in this case note that we have two equations, separated by a comma.\n",
    "\n",
    "The first equation in the command is the selection process, which is estimated as a probit:lfp ~ age + I( age^2 ) + faminc + kids + huswage + educ. The dependent variable is always the binary variable for being selected into the sample– in this case, it is lfp, which is a dummy variable equal to one if the woman is participating in the labor force (and is thus being paid and observed for the wage equation). Then there is a comma, followed by: The second equation, which is the wage regression of interest:log(wage) ~ exper + I( exper^2 ) + educ + city.\n",
    "\n",
    "The selection equation should include as regressors variables that are likely to affect the selection process. In our example we want variables that could plausibly affect whether or not a married woman would be in the labor force. Examine the variables included here, make sure you know what they are, and see if you can understand why they would be included in the lfp equation."
   ]
  },
  {
   "cell_type": "markdown",
   "metadata": {},
   "source": [
    "## Maximum likelihood estimation (MLE)\n",
    "\n",
    "An alternative statistical method to accomplish the same result as the Heckman model is to estimate the selection model using maximum likelihood (ML) for both equations simultaneously. We will discuss this further in class. For now, note that the syntax for the command is virtually identical to the heckit:"
   ]
  },
  {
   "cell_type": "code",
   "execution_count": 64,
   "metadata": {},
   "outputs": [
    {
     "ename": "ERROR",
     "evalue": "Error in selection(lfp ~ age + I(age^2) + kids + huswage + educ, log(wage) ~ : could not find function \"selection\"\n",
     "output_type": "error",
     "traceback": [
      "Error in selection(lfp ~ age + I(age^2) + kids + huswage + educ, log(wage) ~ : could not find function \"selection\"\nTraceback:\n"
     ]
    }
   ],
   "source": [
    "# ML estimation of selection model\n",
    "ml1 = selection( lfp ~ age + I( age^2 ) + kids + huswage + educ, log(wage) ~ educ + exper + I( exper^2 ) + city, data=Mroz87 ) "
   ]
  },
  {
   "cell_type": "code",
   "execution_count": 65,
   "metadata": {},
   "outputs": [
    {
     "name": "stderr",
     "output_type": "stream",
     "text": [
      "\n",
      "Please cite as: \n",
      "\n",
      " Hlavac, Marek (2018). stargazer: Well-Formatted Regression and Summary Statistics Tables.\n",
      " R package version 5.2.2. https://CRAN.R-project.org/package=stargazer \n",
      "\n"
     ]
    },
    {
     "ename": "ERROR",
     "evalue": "Error in .stargazer.wrap(..., type = type, title = title, style = style, : object 'heck1' not found\n",
     "output_type": "error",
     "traceback": [
      "Error in .stargazer.wrap(..., type = type, title = title, style = style, : object 'heck1' not found\nTraceback:\n",
      "1. stargazer(ols1, heck1, ml1, title = \"Married women's wage regressions\", \n .     type = \"text\", df = FALSE, digits = 4)",
      "2. .stargazer.wrap(..., type = type, title = title, style = style, \n .     summary = summary, out = out, out.header = out.header, column.labels = column.labels, \n .     column.separate = column.separate, covariate.labels = covariate.labels, \n .     dep.var.caption = dep.var.caption, dep.var.labels = dep.var.labels, \n .     dep.var.labels.include = dep.var.labels.include, align = align, \n .     coef = coef, se = se, t = t, p = p, t.auto = t.auto, p.auto = p.auto, \n .     ci = ci, ci.custom = ci.custom, ci.level = ci.level, ci.separator = ci.separator, \n .     add.lines = add.lines, apply.coef = apply.coef, apply.se = apply.se, \n .     apply.t = apply.t, apply.p = apply.p, apply.ci = apply.ci, \n .     colnames = colnames, column.sep.width = column.sep.width, \n .     decimal.mark = decimal.mark, df = df, digit.separate = digit.separate, \n .     digit.separator = digit.separator, digits = digits, digits.extra = digits.extra, \n .     flip = flip, float = float, float.env = float.env, font.size = font.size, \n .     header = header, initial.zero = initial.zero, intercept.bottom = intercept.bottom, \n .     intercept.top = intercept.top, keep = keep, keep.stat = keep.stat, \n .     label = label, model.names = model.names, model.numbers = model.numbers, \n .     multicolumn = multicolumn, no.space = no.space, notes = notes, \n .     notes.align = notes.align, notes.append = notes.append, notes.label = notes.label, \n .     object.names = object.names, omit = omit, omit.labels = omit.labels, \n .     omit.stat = omit.stat, omit.summary.stat = omit.summary.stat, \n .     omit.table.layout = omit.table.layout, omit.yes.no = omit.yes.no, \n .     order = order, ord.intercepts = ord.intercepts, perl = perl, \n .     report = report, rownames = rownames, rq.se = rq.se, selection.equation = selection.equation, \n .     single.row = single.row, star.char = star.char, star.cutoffs = star.cutoffs, \n .     suppress.errors = suppress.errors, table.layout = table.layout, \n .     table.placement = table.placement, zero.component = zero.component, \n .     summary.logical = summary.logical, summary.stat = summary.stat, \n .     nobs = nobs, mean.sd = mean.sd, min.max = min.max, median = median, \n .     iqr = iqr, warn = save.warn.option)"
     ]
    }
   ],
   "source": [
    "# Summary results using the stargazer table\n",
    "library(stargazer)\n",
    "stargazer(ols1, heck1, ml1,  \n",
    "          title=\"Married women's wage regressions\", type=\"text\", \n",
    "          df=FALSE, digits=4)"
   ]
  },
  {
   "cell_type": "markdown",
   "metadata": {},
   "source": [
    "As you can see, the selection corrections did not have a big effect on any of the parameters of interest. The estimated returns to education and experience are a bit larger in the selection regressions, but the difference is really small. In this case it appears that the OLS equation on the selected sample may not have been very biased after all.\n",
    "\n",
    "In the panel below the coefficients, note that there is an estimate for rho in the selection models: columns (2) and (3). This is an estimate of the correlation of the errors between the selection and wage equations. In the lower panel, the estimated coefficient on the inverse Mills ratio is given for the Heckman model. The fact that it is not statistically different from zero is consistent with the idea that selection bias was not a serious problem in this case.\n",
    "\n",
    "The final stargazer table in the script includes the option selection.equation=TRUE, which means the table will show you the first-stage probit model for lfp, if you are interested in what factors affect the selection process itself."
   ]
  }
 ],
 "metadata": {
  "kernelspec": {
   "display_name": "R",
   "language": "R",
   "name": "ir"
  },
  "language_info": {
   "codemirror_mode": "r",
   "file_extension": ".r",
   "mimetype": "text/x-r-source",
   "name": "R",
   "pygments_lexer": "r",
   "version": "3.4.4"
  }
 },
 "nbformat": 4,
 "nbformat_minor": 2
}
